{
 "cells": [
  {
   "cell_type": "code",
   "execution_count": 58,
   "metadata": {},
   "outputs": [],
   "source": [
    "import numpy as np\n",
    "import pandas as pd\n",
    "import matplotlib.pyplot as plt\n",
    "import datetime\n",
    "\n",
    "\n",
    "df = pd.read_csv('data_assignment.csv')"
   ]
  },
  {
   "cell_type": "code",
   "execution_count": null,
   "metadata": {
    "scrolled": false
   },
   "outputs": [],
   "source": []
  },
  {
   "cell_type": "code",
   "execution_count": 49,
   "metadata": {},
   "outputs": [
    {
     "name": "stdout",
     "output_type": "stream",
     "text": [
      "Total number of data points:  1881207\n"
     ]
    }
   ],
   "source": [
    "sum = 0\n",
    "for index in range(df.shape[1]):\n",
    "    columnSeriesObj = df.iloc[: , index]\n",
    "    sum += columnSeriesObj.count()\n",
    "    \n",
    "print(\"Total number of data points: \", sum)"
   ]
  },
  {
   "cell_type": "code",
   "execution_count": 102,
   "metadata": {},
   "outputs": [
    {
     "name": "stdout",
     "output_type": "stream",
     "text": [
      "This data covers the period between 2018-10-01 and 2018-11-13\n",
      "Number of dates with postings: 44\n"
     ]
    }
   ],
   "source": [
    "date = df['Date']\n",
    "minDate = date.min().split(\"T\")[0]\n",
    "maxDate = date.max().split(\"T\")[0]\n",
    "NumberOfPostings = df['Date'].nunique()\n",
    "\n",
    "print(\"This data covers the period between \" + minDate + \" and \"+ maxDate)\n",
    "print(\"Number of dates with postings:\" , NumberOfPostings)"
   ]
  },
  {
   "cell_type": "code",
   "execution_count": 103,
   "metadata": {},
   "outputs": [
    {
     "name": "stdout",
     "output_type": "stream",
     "text": [
      "Total locations : 65\n",
      "Location with most postings: Yorke Peninsula & Clare Valley\n"
     ]
    }
   ],
   "source": [
    "NumberOfLocations = df['Location'].nunique()\n",
    "loc = df['Location'].max()\n",
    "\n",
    "print(\"Total locations :\" , NumberOfLocations)\n",
    "print(\"Location with most postings:\" , loc)"
   ]
  },
  {
   "cell_type": "code",
   "execution_count": 193,
   "metadata": {},
   "outputs": [
    {
     "name": "stdout",
     "output_type": "stream",
     "text": [
      "Total job sectors : 30\n",
      "Each job sector and number of postings:  Information & Communication Technology    16661\n",
      "Trades & Services                         14125\n",
      "Healthcare & Medical                      12515\n",
      "Hospitality & Tourism                     11818\n",
      "Manufacturing, Transport & Logistics       9608\n",
      "Administration & Office Support            7636\n",
      "Accounting                                 7075\n",
      "Education & Training                       7033\n",
      "Retail & Consumer Products                 6496\n",
      "Sales                                      6281\n",
      "Construction                               6254\n",
      "Government & Defence                       5926\n",
      "Engineering                                4812\n",
      "Mining, Resources & Energy                 4679\n",
      "Community Services & Development           3528\n",
      "Banking & Financial Services               3481\n",
      "Human Resources & Recruitment              3233\n",
      "Call Centre & Customer Service             3127\n",
      "Legal                                      3071\n",
      "Marketing & Communications                 3052\n",
      "Real Estate & Property                     2729\n",
      "Design & Architecture                      1379\n",
      "Insurance & Superannuation                 1144\n",
      "Consulting & Strategy                       905\n",
      "Sport & Recreation                          750\n",
      "Science & Technology                        696\n",
      "Farming, Animals & Conservation             683\n",
      "Advertising, Arts & Media                   644\n",
      "CEO & General Management                    585\n",
      "Self Employment                              73\n",
      "Name: Classification, dtype: int64\n"
     ]
    }
   ],
   "source": [
    "classifications = df['Classification'].value_counts()\n",
    "classificationUnique = df['Classification'].nunique()\n",
    "jobs = df['Classification'].unique()\n",
    "\n",
    "print(\"Total job sectors :\" , classificationUnique)\n",
    "print(\"Each job sector and number of postings: \", classifications)"
   ]
  },
  {
   "cell_type": "code",
   "execution_count": 210,
   "metadata": {},
   "outputs": [
    {
     "name": "stdout",
     "output_type": "stream",
     "text": [
      "The names of the Engineering sub-sectors are:  ['Engineering - Software', 'Engineering - Network', 'Engineering Drafting', 'Engineering - Hardware']\n",
      "Number of job lists for Engineering - Software | 1087\n",
      "Number of job lists for Engineering - Network | 402\n",
      "Number of job lists for Engineering Drafting | 304\n",
      "Number of job lists for Engineering - Hardware | 94\n"
     ]
    }
   ],
   "source": [
    "jobs = df['SubClassification'].unique()\n",
    "listOfSubSectors = []\n",
    "\n",
    "for i in range(len(jobs)):\n",
    "    value = jobs[i].split(\" \")\n",
    "    if value[0] == \"Engineering\":\n",
    "        listOfSubSectors.append((jobs[i]))\n",
    "        \n",
    "subSector = df['SubClassification'].value_counts()\n",
    "print(\"The names of the Engineering sub-sectors are: \", listOfSubSectors)\n",
    "for i in listOfSubSectors:\n",
    "    print(\"Number of job lists for\", i , \"|\", subSector[i])\n",
    "      \n",
    "        \n",
    "        \n"
   ]
  },
  {
   "cell_type": "code",
   "execution_count": 277,
   "metadata": {
    "scrolled": true
   },
   "outputs": [
    {
     "name": "stdout",
     "output_type": "stream",
     "text": [
      "Salary range (in thousands): 0 to 30  This range has 27606 job listings\n",
      "Salary range (in thousands): 30 to 40  This range has 17708 job listings\n",
      "Salary range (in thousands): 40 to 50  This range has 14108 job listings\n",
      "Salary range (in thousands): 50 to 60  This range has 13062 job listings\n",
      "Salary range (in thousands): 60 to 70  This range has 12932 job listings\n",
      "Salary range (in thousands): 70 to 80  This range has 12582 job listings\n",
      "Salary range (in thousands): 80 to 100  This range has 12559 job listings\n",
      "Salary range (in thousands): 100 to 120  This range has 12441 job listings\n",
      "Salary range (in thousands): 120 to 150  This range has 11738 job listings\n",
      "Salary range (in thousands): 150 to 200  This range has 10651 job listings\n",
      "Salary range (in thousands): 200 to 250  This range has 4612 job listings\n"
     ]
    }
   ],
   "source": [
    "minValue = df['LowestSalary'].unique()\n",
    "maxValue = df['HighestSalary'].unique()\n",
    "rangeValueCount = df['HighestSalary'].value_counts()\n",
    "\n",
    "#this implementation only works with even number of values in each column\n",
    "for i, j, k in zip(minValue, maxValue, rangeValueCount):\n",
    "    print(\"Salary range (in thousands):\",i, \"to\",j, \" This range has\", k, \"job listings\")\n"
   ]
  },
  {
   "cell_type": "code",
   "execution_count": 371,
   "metadata": {},
   "outputs": [
    {
     "name": "stdout",
     "output_type": "stream",
     "text": [
      "Job types are:  ['Full Time' 'Contract/Temp' 'Part Time' 'Casual/Vacation']\n",
      "highest and lowest salary for Full Time is 0 250\n",
      "highest and lowest salary for Contract/Temp is 0 250\n",
      "highest and lowest salary for Part Time is 0 250\n",
      "highest and lowest salary for Casual/Vacation is 0 250\n"
     ]
    }
   ],
   "source": [
    "grouped = df.groupby(['LowestSalary', 'HighestSalary', 'JobType'])\n",
    "totalJobTypes = df['JobType'].dropna().unique()\n",
    "currentHighest = 0\n",
    "currentLowest = 0\n",
    "\n",
    "\n",
    "print(\"Job types are: \", totalJobTypes)\n",
    "\n",
    "# From looking at the data, every job type is represented in every salary range. This seems to be repeated in the code. \n",
    "# Not sure if correct.\n",
    "for i in totalJobTypes:\n",
    "    \n",
    "    for job, group in grouped:\n",
    "        if job[2] == i and job[0] < currentLowest:\n",
    "            currentLowest = job[0]\n",
    "        if job[2] == i and job[1] > currentHighest:\n",
    "            currentHighest = job[1]\n",
    "    print(\"highest and lowest salary for\", i, \"is\", currentLowest, currentHighest)    "
   ]
  }
 ],
 "metadata": {
  "kernelspec": {
   "display_name": "Python 3",
   "language": "python",
   "name": "python3"
  },
  "language_info": {
   "codemirror_mode": {
    "name": "ipython",
    "version": 3
   },
   "file_extension": ".py",
   "mimetype": "text/x-python",
   "name": "python",
   "nbconvert_exporter": "python",
   "pygments_lexer": "ipython3",
   "version": "3.7.6"
  }
 },
 "nbformat": 4,
 "nbformat_minor": 4
}
