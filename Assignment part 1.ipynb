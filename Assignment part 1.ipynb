{
 "cells": [
  {
   "cell_type": "code",
   "execution_count": 58,
   "metadata": {},
   "outputs": [],
   "source": [
    "import numpy as np\n",
    "import pandas as pd\n",
    "import matplotlib.pyplot as plt\n",
    "import seaborn as sns\n",
    "import datetime\n",
    "\n",
    "#Load seek info\n",
    "df = pd.read_csv('data_assignment.csv')"
   ]
  },
  {
   "cell_type": "code",
   "execution_count": null,
   "metadata": {
    "scrolled": false
   },
   "outputs": [],
   "source": []
  },
  {
   "cell_type": "code",
   "execution_count": 49,
   "metadata": {},
   "outputs": [
    {
     "name": "stdout",
     "output_type": "stream",
     "text": [
      "Total number of data points:  1881207\n"
     ]
    }
   ],
   "source": [
    "sum = 0\n",
    "for index in range(df.shape[1]):\n",
    "\n",
    "    columnSeriesObj = df.iloc[: , index]\n",
    "    sum += columnSeriesObj.count()\n",
    "print(\"Total number of data points: \", sum)\n"
   ]
  },
  {
   "cell_type": "code",
   "execution_count": 97,
   "metadata": {},
   "outputs": [
    {
     "name": "stdout",
     "output_type": "stream",
     "text": [
      "This data covers the period between 2018-10-01 and 2018-11-13\n",
      "Number of dates with postings: 44\n"
     ]
    }
   ],
   "source": [
    "date = df['Date']\n",
    "minDate = date.min().split(\"T\")[0]\n",
    "# minDate = minDate.split(\"-\")\n",
    "\n",
    "maxDate = date.max().split(\"T\")[0]\n",
    "# maxDate = maxDate.split(\"-\")\n",
    "\n",
    "\n",
    "\n",
    "print(\"This data covers the period between \" + minDate + \" and \"+ maxDate)\n",
    "\n",
    "\n",
    "NumberOfPostings = df['Date'].nunique()\n",
    "print(\"Number of dates with postings:\" , NumberOfPostings)"
   ]
  },
  {
   "cell_type": "code",
   "execution_count": 101,
   "metadata": {},
   "outputs": [
    {
     "name": "stdout",
     "output_type": "stream",
     "text": [
      "Location with most postings: Yorke Peninsula & Clare Valley\n"
     ]
    }
   ],
   "source": [
    "NumberOfLocations = df['Location'].nunique()\n",
    "loc = df['Location'].max()\n",
    "print(\"Location with most postings:\" , loc)"
   ]
  }
 ],
 "metadata": {
  "kernelspec": {
   "display_name": "Python 3",
   "language": "python",
   "name": "python3"
  },
  "language_info": {
   "codemirror_mode": {
    "name": "ipython",
    "version": 3
   },
   "file_extension": ".py",
   "mimetype": "text/x-python",
   "name": "python",
   "nbconvert_exporter": "python",
   "pygments_lexer": "ipython3",
   "version": "3.7.6"
  }
 },
 "nbformat": 4,
 "nbformat_minor": 4
}
